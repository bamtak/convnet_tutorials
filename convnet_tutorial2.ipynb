{
  "nbformat": 4,
  "nbformat_minor": 0,
  "metadata": {
    "accelerator": "GPU",
    "colab": {
      "name": "convnet_tutorial2.ipynb",
      "provenance": [],
      "collapsed_sections": [],
      "include_colab_link": true
    },
    "kernelspec": {
      "display_name": "Python 3",
      "language": "python",
      "name": "python3"
    },
    "language_info": {
      "codemirror_mode": {
        "name": "ipython",
        "version": 3
      },
      "file_extension": ".py",
      "mimetype": "text/x-python",
      "name": "python",
      "nbconvert_exporter": "python",
      "pygments_lexer": "ipython3",
      "version": "3.6.10"
    },
    "widgets": {
      "application/vnd.jupyter.widget-state+json": {
        "a8c35c6c6aa24f16b20d7d73d2d5d1dd": {
          "model_module": "@jupyter-widgets/controls",
          "model_name": "HBoxModel",
          "state": {
            "_view_name": "HBoxView",
            "_dom_classes": [],
            "_model_name": "HBoxModel",
            "_view_module": "@jupyter-widgets/controls",
            "_model_module_version": "1.5.0",
            "_view_count": null,
            "_view_module_version": "1.5.0",
            "box_style": "",
            "layout": "IPY_MODEL_201c18914f30437b9d77e38bb949653f",
            "_model_module": "@jupyter-widgets/controls",
            "children": [
              "IPY_MODEL_474b706fa0ce4a39ab8fdf676cc12d5a",
              "IPY_MODEL_e6da9a15faa347058cc10100e2f318b5"
            ]
          }
        },
        "201c18914f30437b9d77e38bb949653f": {
          "model_module": "@jupyter-widgets/base",
          "model_name": "LayoutModel",
          "state": {
            "_view_name": "LayoutView",
            "grid_template_rows": null,
            "right": null,
            "justify_content": null,
            "_view_module": "@jupyter-widgets/base",
            "overflow": null,
            "_model_module_version": "1.2.0",
            "_view_count": null,
            "flex_flow": null,
            "width": null,
            "min_width": null,
            "border": null,
            "align_items": null,
            "bottom": null,
            "_model_module": "@jupyter-widgets/base",
            "top": null,
            "grid_column": null,
            "overflow_y": null,
            "overflow_x": null,
            "grid_auto_flow": null,
            "grid_area": null,
            "grid_template_columns": null,
            "flex": null,
            "_model_name": "LayoutModel",
            "justify_items": null,
            "grid_row": null,
            "max_height": null,
            "align_content": null,
            "visibility": null,
            "align_self": null,
            "height": null,
            "min_height": null,
            "padding": null,
            "grid_auto_rows": null,
            "grid_gap": null,
            "max_width": null,
            "order": null,
            "_view_module_version": "1.2.0",
            "grid_template_areas": null,
            "object_position": null,
            "object_fit": null,
            "grid_auto_columns": null,
            "margin": null,
            "display": null,
            "left": null
          }
        },
        "474b706fa0ce4a39ab8fdf676cc12d5a": {
          "model_module": "@jupyter-widgets/controls",
          "model_name": "IntProgressModel",
          "state": {
            "_view_name": "ProgressView",
            "style": "IPY_MODEL_12b89cc6308e440dbdf51f6f2d5716fb",
            "_dom_classes": [],
            "description": "",
            "_model_name": "IntProgressModel",
            "bar_style": "info",
            "max": 1,
            "_view_module": "@jupyter-widgets/controls",
            "_model_module_version": "1.5.0",
            "value": 1,
            "_view_count": null,
            "_view_module_version": "1.5.0",
            "orientation": "horizontal",
            "min": 0,
            "description_tooltip": null,
            "_model_module": "@jupyter-widgets/controls",
            "layout": "IPY_MODEL_6bd3c2f8fb3c447392b80b37f5124041"
          }
        },
        "e6da9a15faa347058cc10100e2f318b5": {
          "model_module": "@jupyter-widgets/controls",
          "model_name": "HTMLModel",
          "state": {
            "_view_name": "HTMLView",
            "style": "IPY_MODEL_9892891bedfd44dc9de6cb8bea5af652",
            "_dom_classes": [],
            "description": "",
            "_model_name": "HTMLModel",
            "placeholder": "​",
            "_view_module": "@jupyter-widgets/controls",
            "_model_module_version": "1.5.0",
            "value": " 9920512/? [00:20&lt;00:00, 745562.29it/s]",
            "_view_count": null,
            "_view_module_version": "1.5.0",
            "description_tooltip": null,
            "_model_module": "@jupyter-widgets/controls",
            "layout": "IPY_MODEL_5d9f4c0e4bde4dfb8f5a35499fa2b479"
          }
        },
        "12b89cc6308e440dbdf51f6f2d5716fb": {
          "model_module": "@jupyter-widgets/controls",
          "model_name": "ProgressStyleModel",
          "state": {
            "_view_name": "StyleView",
            "_model_name": "ProgressStyleModel",
            "description_width": "initial",
            "_view_module": "@jupyter-widgets/base",
            "_model_module_version": "1.5.0",
            "_view_count": null,
            "_view_module_version": "1.2.0",
            "bar_color": null,
            "_model_module": "@jupyter-widgets/controls"
          }
        },
        "6bd3c2f8fb3c447392b80b37f5124041": {
          "model_module": "@jupyter-widgets/base",
          "model_name": "LayoutModel",
          "state": {
            "_view_name": "LayoutView",
            "grid_template_rows": null,
            "right": null,
            "justify_content": null,
            "_view_module": "@jupyter-widgets/base",
            "overflow": null,
            "_model_module_version": "1.2.0",
            "_view_count": null,
            "flex_flow": null,
            "width": null,
            "min_width": null,
            "border": null,
            "align_items": null,
            "bottom": null,
            "_model_module": "@jupyter-widgets/base",
            "top": null,
            "grid_column": null,
            "overflow_y": null,
            "overflow_x": null,
            "grid_auto_flow": null,
            "grid_area": null,
            "grid_template_columns": null,
            "flex": null,
            "_model_name": "LayoutModel",
            "justify_items": null,
            "grid_row": null,
            "max_height": null,
            "align_content": null,
            "visibility": null,
            "align_self": null,
            "height": null,
            "min_height": null,
            "padding": null,
            "grid_auto_rows": null,
            "grid_gap": null,
            "max_width": null,
            "order": null,
            "_view_module_version": "1.2.0",
            "grid_template_areas": null,
            "object_position": null,
            "object_fit": null,
            "grid_auto_columns": null,
            "margin": null,
            "display": null,
            "left": null
          }
        },
        "9892891bedfd44dc9de6cb8bea5af652": {
          "model_module": "@jupyter-widgets/controls",
          "model_name": "DescriptionStyleModel",
          "state": {
            "_view_name": "StyleView",
            "_model_name": "DescriptionStyleModel",
            "description_width": "",
            "_view_module": "@jupyter-widgets/base",
            "_model_module_version": "1.5.0",
            "_view_count": null,
            "_view_module_version": "1.2.0",
            "_model_module": "@jupyter-widgets/controls"
          }
        },
        "5d9f4c0e4bde4dfb8f5a35499fa2b479": {
          "model_module": "@jupyter-widgets/base",
          "model_name": "LayoutModel",
          "state": {
            "_view_name": "LayoutView",
            "grid_template_rows": null,
            "right": null,
            "justify_content": null,
            "_view_module": "@jupyter-widgets/base",
            "overflow": null,
            "_model_module_version": "1.2.0",
            "_view_count": null,
            "flex_flow": null,
            "width": null,
            "min_width": null,
            "border": null,
            "align_items": null,
            "bottom": null,
            "_model_module": "@jupyter-widgets/base",
            "top": null,
            "grid_column": null,
            "overflow_y": null,
            "overflow_x": null,
            "grid_auto_flow": null,
            "grid_area": null,
            "grid_template_columns": null,
            "flex": null,
            "_model_name": "LayoutModel",
            "justify_items": null,
            "grid_row": null,
            "max_height": null,
            "align_content": null,
            "visibility": null,
            "align_self": null,
            "height": null,
            "min_height": null,
            "padding": null,
            "grid_auto_rows": null,
            "grid_gap": null,
            "max_width": null,
            "order": null,
            "_view_module_version": "1.2.0",
            "grid_template_areas": null,
            "object_position": null,
            "object_fit": null,
            "grid_auto_columns": null,
            "margin": null,
            "display": null,
            "left": null
          }
        },
        "ede32ab8e6f94edb8cb37341c28ec7ec": {
          "model_module": "@jupyter-widgets/controls",
          "model_name": "HBoxModel",
          "state": {
            "_view_name": "HBoxView",
            "_dom_classes": [],
            "_model_name": "HBoxModel",
            "_view_module": "@jupyter-widgets/controls",
            "_model_module_version": "1.5.0",
            "_view_count": null,
            "_view_module_version": "1.5.0",
            "box_style": "",
            "layout": "IPY_MODEL_708da844e9e7430ba4fbb27434e626f4",
            "_model_module": "@jupyter-widgets/controls",
            "children": [
              "IPY_MODEL_fffd26e66216419ba06cc2090b08f82b",
              "IPY_MODEL_cb5368fb93b14a658b91c87a144a02da"
            ]
          }
        },
        "708da844e9e7430ba4fbb27434e626f4": {
          "model_module": "@jupyter-widgets/base",
          "model_name": "LayoutModel",
          "state": {
            "_view_name": "LayoutView",
            "grid_template_rows": null,
            "right": null,
            "justify_content": null,
            "_view_module": "@jupyter-widgets/base",
            "overflow": null,
            "_model_module_version": "1.2.0",
            "_view_count": null,
            "flex_flow": null,
            "width": null,
            "min_width": null,
            "border": null,
            "align_items": null,
            "bottom": null,
            "_model_module": "@jupyter-widgets/base",
            "top": null,
            "grid_column": null,
            "overflow_y": null,
            "overflow_x": null,
            "grid_auto_flow": null,
            "grid_area": null,
            "grid_template_columns": null,
            "flex": null,
            "_model_name": "LayoutModel",
            "justify_items": null,
            "grid_row": null,
            "max_height": null,
            "align_content": null,
            "visibility": null,
            "align_self": null,
            "height": null,
            "min_height": null,
            "padding": null,
            "grid_auto_rows": null,
            "grid_gap": null,
            "max_width": null,
            "order": null,
            "_view_module_version": "1.2.0",
            "grid_template_areas": null,
            "object_position": null,
            "object_fit": null,
            "grid_auto_columns": null,
            "margin": null,
            "display": null,
            "left": null
          }
        },
        "fffd26e66216419ba06cc2090b08f82b": {
          "model_module": "@jupyter-widgets/controls",
          "model_name": "IntProgressModel",
          "state": {
            "_view_name": "ProgressView",
            "style": "IPY_MODEL_f8dc6cf73a3447ac930ca11e7b45d117",
            "_dom_classes": [],
            "description": "",
            "_model_name": "IntProgressModel",
            "bar_style": "success",
            "max": 1,
            "_view_module": "@jupyter-widgets/controls",
            "_model_module_version": "1.5.0",
            "value": 1,
            "_view_count": null,
            "_view_module_version": "1.5.0",
            "orientation": "horizontal",
            "min": 0,
            "description_tooltip": null,
            "_model_module": "@jupyter-widgets/controls",
            "layout": "IPY_MODEL_8a690c59bd9d48e4ada4e6aaf0cad32f"
          }
        },
        "cb5368fb93b14a658b91c87a144a02da": {
          "model_module": "@jupyter-widgets/controls",
          "model_name": "HTMLModel",
          "state": {
            "_view_name": "HTMLView",
            "style": "IPY_MODEL_06516e1078a148a98e863939a7cba554",
            "_dom_classes": [],
            "description": "",
            "_model_name": "HTMLModel",
            "placeholder": "​",
            "_view_module": "@jupyter-widgets/controls",
            "_model_module_version": "1.5.0",
            "value": " 32768/? [00:00&lt;00:00, 106595.45it/s]",
            "_view_count": null,
            "_view_module_version": "1.5.0",
            "description_tooltip": null,
            "_model_module": "@jupyter-widgets/controls",
            "layout": "IPY_MODEL_96bd5284ae5e4766bafb494a8f97242c"
          }
        },
        "f8dc6cf73a3447ac930ca11e7b45d117": {
          "model_module": "@jupyter-widgets/controls",
          "model_name": "ProgressStyleModel",
          "state": {
            "_view_name": "StyleView",
            "_model_name": "ProgressStyleModel",
            "description_width": "initial",
            "_view_module": "@jupyter-widgets/base",
            "_model_module_version": "1.5.0",
            "_view_count": null,
            "_view_module_version": "1.2.0",
            "bar_color": null,
            "_model_module": "@jupyter-widgets/controls"
          }
        },
        "8a690c59bd9d48e4ada4e6aaf0cad32f": {
          "model_module": "@jupyter-widgets/base",
          "model_name": "LayoutModel",
          "state": {
            "_view_name": "LayoutView",
            "grid_template_rows": null,
            "right": null,
            "justify_content": null,
            "_view_module": "@jupyter-widgets/base",
            "overflow": null,
            "_model_module_version": "1.2.0",
            "_view_count": null,
            "flex_flow": null,
            "width": null,
            "min_width": null,
            "border": null,
            "align_items": null,
            "bottom": null,
            "_model_module": "@jupyter-widgets/base",
            "top": null,
            "grid_column": null,
            "overflow_y": null,
            "overflow_x": null,
            "grid_auto_flow": null,
            "grid_area": null,
            "grid_template_columns": null,
            "flex": null,
            "_model_name": "LayoutModel",
            "justify_items": null,
            "grid_row": null,
            "max_height": null,
            "align_content": null,
            "visibility": null,
            "align_self": null,
            "height": null,
            "min_height": null,
            "padding": null,
            "grid_auto_rows": null,
            "grid_gap": null,
            "max_width": null,
            "order": null,
            "_view_module_version": "1.2.0",
            "grid_template_areas": null,
            "object_position": null,
            "object_fit": null,
            "grid_auto_columns": null,
            "margin": null,
            "display": null,
            "left": null
          }
        },
        "06516e1078a148a98e863939a7cba554": {
          "model_module": "@jupyter-widgets/controls",
          "model_name": "DescriptionStyleModel",
          "state": {
            "_view_name": "StyleView",
            "_model_name": "DescriptionStyleModel",
            "description_width": "",
            "_view_module": "@jupyter-widgets/base",
            "_model_module_version": "1.5.0",
            "_view_count": null,
            "_view_module_version": "1.2.0",
            "_model_module": "@jupyter-widgets/controls"
          }
        },
        "96bd5284ae5e4766bafb494a8f97242c": {
          "model_module": "@jupyter-widgets/base",
          "model_name": "LayoutModel",
          "state": {
            "_view_name": "LayoutView",
            "grid_template_rows": null,
            "right": null,
            "justify_content": null,
            "_view_module": "@jupyter-widgets/base",
            "overflow": null,
            "_model_module_version": "1.2.0",
            "_view_count": null,
            "flex_flow": null,
            "width": null,
            "min_width": null,
            "border": null,
            "align_items": null,
            "bottom": null,
            "_model_module": "@jupyter-widgets/base",
            "top": null,
            "grid_column": null,
            "overflow_y": null,
            "overflow_x": null,
            "grid_auto_flow": null,
            "grid_area": null,
            "grid_template_columns": null,
            "flex": null,
            "_model_name": "LayoutModel",
            "justify_items": null,
            "grid_row": null,
            "max_height": null,
            "align_content": null,
            "visibility": null,
            "align_self": null,
            "height": null,
            "min_height": null,
            "padding": null,
            "grid_auto_rows": null,
            "grid_gap": null,
            "max_width": null,
            "order": null,
            "_view_module_version": "1.2.0",
            "grid_template_areas": null,
            "object_position": null,
            "object_fit": null,
            "grid_auto_columns": null,
            "margin": null,
            "display": null,
            "left": null
          }
        },
        "135767d2187b47a0a63728f333e20689": {
          "model_module": "@jupyter-widgets/controls",
          "model_name": "HBoxModel",
          "state": {
            "_view_name": "HBoxView",
            "_dom_classes": [],
            "_model_name": "HBoxModel",
            "_view_module": "@jupyter-widgets/controls",
            "_model_module_version": "1.5.0",
            "_view_count": null,
            "_view_module_version": "1.5.0",
            "box_style": "",
            "layout": "IPY_MODEL_a64cb8c6e2424c6fa8b7993a192beb7c",
            "_model_module": "@jupyter-widgets/controls",
            "children": [
              "IPY_MODEL_0a81a818c07d4c15857a9d12fbbce69d",
              "IPY_MODEL_2e0cb52d71934532abc36bfebceb2b75"
            ]
          }
        },
        "a64cb8c6e2424c6fa8b7993a192beb7c": {
          "model_module": "@jupyter-widgets/base",
          "model_name": "LayoutModel",
          "state": {
            "_view_name": "LayoutView",
            "grid_template_rows": null,
            "right": null,
            "justify_content": null,
            "_view_module": "@jupyter-widgets/base",
            "overflow": null,
            "_model_module_version": "1.2.0",
            "_view_count": null,
            "flex_flow": null,
            "width": null,
            "min_width": null,
            "border": null,
            "align_items": null,
            "bottom": null,
            "_model_module": "@jupyter-widgets/base",
            "top": null,
            "grid_column": null,
            "overflow_y": null,
            "overflow_x": null,
            "grid_auto_flow": null,
            "grid_area": null,
            "grid_template_columns": null,
            "flex": null,
            "_model_name": "LayoutModel",
            "justify_items": null,
            "grid_row": null,
            "max_height": null,
            "align_content": null,
            "visibility": null,
            "align_self": null,
            "height": null,
            "min_height": null,
            "padding": null,
            "grid_auto_rows": null,
            "grid_gap": null,
            "max_width": null,
            "order": null,
            "_view_module_version": "1.2.0",
            "grid_template_areas": null,
            "object_position": null,
            "object_fit": null,
            "grid_auto_columns": null,
            "margin": null,
            "display": null,
            "left": null
          }
        },
        "0a81a818c07d4c15857a9d12fbbce69d": {
          "model_module": "@jupyter-widgets/controls",
          "model_name": "IntProgressModel",
          "state": {
            "_view_name": "ProgressView",
            "style": "IPY_MODEL_915d49aeb3454fe9beb9772ad7771e6e",
            "_dom_classes": [],
            "description": "",
            "_model_name": "IntProgressModel",
            "bar_style": "info",
            "max": 1,
            "_view_module": "@jupyter-widgets/controls",
            "_model_module_version": "1.5.0",
            "value": 1,
            "_view_count": null,
            "_view_module_version": "1.5.0",
            "orientation": "horizontal",
            "min": 0,
            "description_tooltip": null,
            "_model_module": "@jupyter-widgets/controls",
            "layout": "IPY_MODEL_bc571f7d05d546cf820ec06eca16b652"
          }
        },
        "2e0cb52d71934532abc36bfebceb2b75": {
          "model_module": "@jupyter-widgets/controls",
          "model_name": "HTMLModel",
          "state": {
            "_view_name": "HTMLView",
            "style": "IPY_MODEL_adf4b2c1949d473f860c85ab97e34e72",
            "_dom_classes": [],
            "description": "",
            "_model_name": "HTMLModel",
            "placeholder": "​",
            "_view_module": "@jupyter-widgets/controls",
            "_model_module_version": "1.5.0",
            "value": " 1654784/? [00:18&lt;00:00, 267542.45it/s]",
            "_view_count": null,
            "_view_module_version": "1.5.0",
            "description_tooltip": null,
            "_model_module": "@jupyter-widgets/controls",
            "layout": "IPY_MODEL_652aae425a1349cbad28632a4e9e66a3"
          }
        },
        "915d49aeb3454fe9beb9772ad7771e6e": {
          "model_module": "@jupyter-widgets/controls",
          "model_name": "ProgressStyleModel",
          "state": {
            "_view_name": "StyleView",
            "_model_name": "ProgressStyleModel",
            "description_width": "initial",
            "_view_module": "@jupyter-widgets/base",
            "_model_module_version": "1.5.0",
            "_view_count": null,
            "_view_module_version": "1.2.0",
            "bar_color": null,
            "_model_module": "@jupyter-widgets/controls"
          }
        },
        "bc571f7d05d546cf820ec06eca16b652": {
          "model_module": "@jupyter-widgets/base",
          "model_name": "LayoutModel",
          "state": {
            "_view_name": "LayoutView",
            "grid_template_rows": null,
            "right": null,
            "justify_content": null,
            "_view_module": "@jupyter-widgets/base",
            "overflow": null,
            "_model_module_version": "1.2.0",
            "_view_count": null,
            "flex_flow": null,
            "width": null,
            "min_width": null,
            "border": null,
            "align_items": null,
            "bottom": null,
            "_model_module": "@jupyter-widgets/base",
            "top": null,
            "grid_column": null,
            "overflow_y": null,
            "overflow_x": null,
            "grid_auto_flow": null,
            "grid_area": null,
            "grid_template_columns": null,
            "flex": null,
            "_model_name": "LayoutModel",
            "justify_items": null,
            "grid_row": null,
            "max_height": null,
            "align_content": null,
            "visibility": null,
            "align_self": null,
            "height": null,
            "min_height": null,
            "padding": null,
            "grid_auto_rows": null,
            "grid_gap": null,
            "max_width": null,
            "order": null,
            "_view_module_version": "1.2.0",
            "grid_template_areas": null,
            "object_position": null,
            "object_fit": null,
            "grid_auto_columns": null,
            "margin": null,
            "display": null,
            "left": null
          }
        },
        "adf4b2c1949d473f860c85ab97e34e72": {
          "model_module": "@jupyter-widgets/controls",
          "model_name": "DescriptionStyleModel",
          "state": {
            "_view_name": "StyleView",
            "_model_name": "DescriptionStyleModel",
            "description_width": "",
            "_view_module": "@jupyter-widgets/base",
            "_model_module_version": "1.5.0",
            "_view_count": null,
            "_view_module_version": "1.2.0",
            "_model_module": "@jupyter-widgets/controls"
          }
        },
        "652aae425a1349cbad28632a4e9e66a3": {
          "model_module": "@jupyter-widgets/base",
          "model_name": "LayoutModel",
          "state": {
            "_view_name": "LayoutView",
            "grid_template_rows": null,
            "right": null,
            "justify_content": null,
            "_view_module": "@jupyter-widgets/base",
            "overflow": null,
            "_model_module_version": "1.2.0",
            "_view_count": null,
            "flex_flow": null,
            "width": null,
            "min_width": null,
            "border": null,
            "align_items": null,
            "bottom": null,
            "_model_module": "@jupyter-widgets/base",
            "top": null,
            "grid_column": null,
            "overflow_y": null,
            "overflow_x": null,
            "grid_auto_flow": null,
            "grid_area": null,
            "grid_template_columns": null,
            "flex": null,
            "_model_name": "LayoutModel",
            "justify_items": null,
            "grid_row": null,
            "max_height": null,
            "align_content": null,
            "visibility": null,
            "align_self": null,
            "height": null,
            "min_height": null,
            "padding": null,
            "grid_auto_rows": null,
            "grid_gap": null,
            "max_width": null,
            "order": null,
            "_view_module_version": "1.2.0",
            "grid_template_areas": null,
            "object_position": null,
            "object_fit": null,
            "grid_auto_columns": null,
            "margin": null,
            "display": null,
            "left": null
          }
        },
        "1dc5a628878c42a7b1626efc70d70383": {
          "model_module": "@jupyter-widgets/controls",
          "model_name": "HBoxModel",
          "state": {
            "_view_name": "HBoxView",
            "_dom_classes": [],
            "_model_name": "HBoxModel",
            "_view_module": "@jupyter-widgets/controls",
            "_model_module_version": "1.5.0",
            "_view_count": null,
            "_view_module_version": "1.5.0",
            "box_style": "",
            "layout": "IPY_MODEL_7bb3b64e01304ceab54fc93ec4e8b15a",
            "_model_module": "@jupyter-widgets/controls",
            "children": [
              "IPY_MODEL_a0ade53b2cad4d0bbb2291a227849771",
              "IPY_MODEL_8c6726e6206a4b7e8f79b4fa612efb3a"
            ]
          }
        },
        "7bb3b64e01304ceab54fc93ec4e8b15a": {
          "model_module": "@jupyter-widgets/base",
          "model_name": "LayoutModel",
          "state": {
            "_view_name": "LayoutView",
            "grid_template_rows": null,
            "right": null,
            "justify_content": null,
            "_view_module": "@jupyter-widgets/base",
            "overflow": null,
            "_model_module_version": "1.2.0",
            "_view_count": null,
            "flex_flow": null,
            "width": null,
            "min_width": null,
            "border": null,
            "align_items": null,
            "bottom": null,
            "_model_module": "@jupyter-widgets/base",
            "top": null,
            "grid_column": null,
            "overflow_y": null,
            "overflow_x": null,
            "grid_auto_flow": null,
            "grid_area": null,
            "grid_template_columns": null,
            "flex": null,
            "_model_name": "LayoutModel",
            "justify_items": null,
            "grid_row": null,
            "max_height": null,
            "align_content": null,
            "visibility": null,
            "align_self": null,
            "height": null,
            "min_height": null,
            "padding": null,
            "grid_auto_rows": null,
            "grid_gap": null,
            "max_width": null,
            "order": null,
            "_view_module_version": "1.2.0",
            "grid_template_areas": null,
            "object_position": null,
            "object_fit": null,
            "grid_auto_columns": null,
            "margin": null,
            "display": null,
            "left": null
          }
        },
        "a0ade53b2cad4d0bbb2291a227849771": {
          "model_module": "@jupyter-widgets/controls",
          "model_name": "IntProgressModel",
          "state": {
            "_view_name": "ProgressView",
            "style": "IPY_MODEL_443cb2d03ac4410a85d1b1d2a929e21b",
            "_dom_classes": [],
            "description": "",
            "_model_name": "IntProgressModel",
            "bar_style": "success",
            "max": 1,
            "_view_module": "@jupyter-widgets/controls",
            "_model_module_version": "1.5.0",
            "value": 1,
            "_view_count": null,
            "_view_module_version": "1.5.0",
            "orientation": "horizontal",
            "min": 0,
            "description_tooltip": null,
            "_model_module": "@jupyter-widgets/controls",
            "layout": "IPY_MODEL_f52c3630f20444fca6afe0642913725c"
          }
        },
        "8c6726e6206a4b7e8f79b4fa612efb3a": {
          "model_module": "@jupyter-widgets/controls",
          "model_name": "HTMLModel",
          "state": {
            "_view_name": "HTMLView",
            "style": "IPY_MODEL_8e3932ff288d4237a1ac47148243a576",
            "_dom_classes": [],
            "description": "",
            "_model_name": "HTMLModel",
            "placeholder": "​",
            "_view_module": "@jupyter-widgets/controls",
            "_model_module_version": "1.5.0",
            "value": " 8192/? [00:00&lt;00:00, 22230.00it/s]",
            "_view_count": null,
            "_view_module_version": "1.5.0",
            "description_tooltip": null,
            "_model_module": "@jupyter-widgets/controls",
            "layout": "IPY_MODEL_17ef94b64e324e5eadd918aba0a06864"
          }
        },
        "443cb2d03ac4410a85d1b1d2a929e21b": {
          "model_module": "@jupyter-widgets/controls",
          "model_name": "ProgressStyleModel",
          "state": {
            "_view_name": "StyleView",
            "_model_name": "ProgressStyleModel",
            "description_width": "initial",
            "_view_module": "@jupyter-widgets/base",
            "_model_module_version": "1.5.0",
            "_view_count": null,
            "_view_module_version": "1.2.0",
            "bar_color": null,
            "_model_module": "@jupyter-widgets/controls"
          }
        },
        "f52c3630f20444fca6afe0642913725c": {
          "model_module": "@jupyter-widgets/base",
          "model_name": "LayoutModel",
          "state": {
            "_view_name": "LayoutView",
            "grid_template_rows": null,
            "right": null,
            "justify_content": null,
            "_view_module": "@jupyter-widgets/base",
            "overflow": null,
            "_model_module_version": "1.2.0",
            "_view_count": null,
            "flex_flow": null,
            "width": null,
            "min_width": null,
            "border": null,
            "align_items": null,
            "bottom": null,
            "_model_module": "@jupyter-widgets/base",
            "top": null,
            "grid_column": null,
            "overflow_y": null,
            "overflow_x": null,
            "grid_auto_flow": null,
            "grid_area": null,
            "grid_template_columns": null,
            "flex": null,
            "_model_name": "LayoutModel",
            "justify_items": null,
            "grid_row": null,
            "max_height": null,
            "align_content": null,
            "visibility": null,
            "align_self": null,
            "height": null,
            "min_height": null,
            "padding": null,
            "grid_auto_rows": null,
            "grid_gap": null,
            "max_width": null,
            "order": null,
            "_view_module_version": "1.2.0",
            "grid_template_areas": null,
            "object_position": null,
            "object_fit": null,
            "grid_auto_columns": null,
            "margin": null,
            "display": null,
            "left": null
          }
        },
        "8e3932ff288d4237a1ac47148243a576": {
          "model_module": "@jupyter-widgets/controls",
          "model_name": "DescriptionStyleModel",
          "state": {
            "_view_name": "StyleView",
            "_model_name": "DescriptionStyleModel",
            "description_width": "",
            "_view_module": "@jupyter-widgets/base",
            "_model_module_version": "1.5.0",
            "_view_count": null,
            "_view_module_version": "1.2.0",
            "_model_module": "@jupyter-widgets/controls"
          }
        },
        "17ef94b64e324e5eadd918aba0a06864": {
          "model_module": "@jupyter-widgets/base",
          "model_name": "LayoutModel",
          "state": {
            "_view_name": "LayoutView",
            "grid_template_rows": null,
            "right": null,
            "justify_content": null,
            "_view_module": "@jupyter-widgets/base",
            "overflow": null,
            "_model_module_version": "1.2.0",
            "_view_count": null,
            "flex_flow": null,
            "width": null,
            "min_width": null,
            "border": null,
            "align_items": null,
            "bottom": null,
            "_model_module": "@jupyter-widgets/base",
            "top": null,
            "grid_column": null,
            "overflow_y": null,
            "overflow_x": null,
            "grid_auto_flow": null,
            "grid_area": null,
            "grid_template_columns": null,
            "flex": null,
            "_model_name": "LayoutModel",
            "justify_items": null,
            "grid_row": null,
            "max_height": null,
            "align_content": null,
            "visibility": null,
            "align_self": null,
            "height": null,
            "min_height": null,
            "padding": null,
            "grid_auto_rows": null,
            "grid_gap": null,
            "max_width": null,
            "order": null,
            "_view_module_version": "1.2.0",
            "grid_template_areas": null,
            "object_position": null,
            "object_fit": null,
            "grid_auto_columns": null,
            "margin": null,
            "display": null,
            "left": null
          }
        }
      }
    }
  },
  "cells": [
    {
      "cell_type": "markdown",
      "metadata": {
        "id": "view-in-github",
        "colab_type": "text"
      },
      "source": [
        "<a href=\"https://colab.research.google.com/github/bamtak/convnet_tutorials/blob/master/convnet_tutorial2.ipynb\" target=\"_parent\"><img src=\"https://colab.research.google.com/assets/colab-badge.svg\" alt=\"Open In Colab\"/></a>"
      ]
    },
    {
      "cell_type": "markdown",
      "metadata": {
        "colab_type": "text",
        "id": "mCt-frpFH8oN"
      },
      "source": [
        "The tutorials use PyTorch. You will need to load the following dependencies."
      ]
    },
    {
      "cell_type": "code",
      "metadata": {
        "colab_type": "code",
        "id": "hqnl0AKVXIA4",
        "colab": {}
      },
      "source": [
        "import random\n",
        "\n",
        "import PIL\n",
        "import imageio\n",
        "import matplotlib.pyplot as plt\n",
        "import numpy as np\n",
        "import skimage.transform\n",
        "import torch\n",
        "import torch.nn as nn\n",
        "import torch.utils.data\n",
        "import torchvision\n",
        "from torchvision import datasets, transforms\n",
        "from IPython import display"
      ],
      "execution_count": 0,
      "outputs": []
    },
    {
      "cell_type": "markdown",
      "metadata": {
        "colab_type": "text",
        "id": "CKeYuM-cIXxs"
      },
      "source": [
        "The code below may be helpful in visualizing PyTorch tensors as images."
      ]
    },
    {
      "cell_type": "code",
      "metadata": {
        "colab_type": "code",
        "id": "ZZd_rI8edYIB",
        "colab": {}
      },
      "source": [
        "%matplotlib inline\n",
        "\n",
        "def show(img):\n",
        "    \"\"\"Show PyTorch tensor img as an image in matplotlib.\"\"\"\n",
        "    npimg = img.cpu().detach().numpy()\n",
        "    plt.imshow(np.transpose(npimg, (1, 2, 0)), interpolation='nearest')\n",
        "    plt.grid(False)\n",
        "    plt.gca().axis('off')\n",
        "\n",
        "def display_thumb(img):\n",
        "  display.display(transforms.Resize(128)(img))"
      ],
      "execution_count": 0,
      "outputs": []
    },
    {
      "cell_type": "code",
      "metadata": {
        "colab_type": "code",
        "id": "dzfEE578uSNp",
        "colab": {}
      },
      "source": [
        "device = 'cuda' if torch.cuda.is_available() else 'cpu'"
      ],
      "execution_count": 0,
      "outputs": []
    },
    {
      "cell_type": "markdown",
      "metadata": {
        "colab_type": "text",
        "id": "zgE0byUgKwM6"
      },
      "source": [
        "Load MNIST and define train/test functions as before. Please make sure you read the code carefully and understand what it is doing."
      ]
    },
    {
      "cell_type": "code",
      "metadata": {
        "colab_type": "code",
        "id": "-NMUce6PKu-o",
        "outputId": "51465760-1166-4366-da6c-12b939997bfe",
        "colab": {
          "base_uri": "https://localhost:8080/",
          "height": 332,
          "referenced_widgets": [
            "a8c35c6c6aa24f16b20d7d73d2d5d1dd",
            "201c18914f30437b9d77e38bb949653f",
            "474b706fa0ce4a39ab8fdf676cc12d5a",
            "e6da9a15faa347058cc10100e2f318b5",
            "12b89cc6308e440dbdf51f6f2d5716fb",
            "6bd3c2f8fb3c447392b80b37f5124041",
            "9892891bedfd44dc9de6cb8bea5af652",
            "5d9f4c0e4bde4dfb8f5a35499fa2b479",
            "ede32ab8e6f94edb8cb37341c28ec7ec",
            "708da844e9e7430ba4fbb27434e626f4",
            "fffd26e66216419ba06cc2090b08f82b",
            "cb5368fb93b14a658b91c87a144a02da",
            "f8dc6cf73a3447ac930ca11e7b45d117",
            "8a690c59bd9d48e4ada4e6aaf0cad32f",
            "06516e1078a148a98e863939a7cba554",
            "96bd5284ae5e4766bafb494a8f97242c",
            "135767d2187b47a0a63728f333e20689",
            "a64cb8c6e2424c6fa8b7993a192beb7c",
            "0a81a818c07d4c15857a9d12fbbce69d",
            "2e0cb52d71934532abc36bfebceb2b75",
            "915d49aeb3454fe9beb9772ad7771e6e",
            "bc571f7d05d546cf820ec06eca16b652",
            "adf4b2c1949d473f860c85ab97e34e72",
            "652aae425a1349cbad28632a4e9e66a3",
            "1dc5a628878c42a7b1626efc70d70383",
            "7bb3b64e01304ceab54fc93ec4e8b15a",
            "a0ade53b2cad4d0bbb2291a227849771",
            "8c6726e6206a4b7e8f79b4fa612efb3a",
            "443cb2d03ac4410a85d1b1d2a929e21b",
            "f52c3630f20444fca6afe0642913725c",
            "8e3932ff288d4237a1ac47148243a576",
            "17ef94b64e324e5eadd918aba0a06864"
          ]
        }
      },
      "source": [
        "# Load the training and test dataset.\n",
        "mnist_train = datasets.MNIST('/tmp/mnist', train=True, download=True, transform=transforms.ToTensor())\n",
        "mnist_test = datasets.MNIST('/tmp/mnist', train=False, download=True, transform=transforms.ToTensor())\n",
        "\n",
        "# Size of the batches the data loader will produce.\n",
        "batch_size = 64\n",
        "\n",
        "# This creates the dataloaders.\n",
        "train_loader = torch.utils.data.DataLoader(mnist_train, batch_size=batch_size, shuffle=True)\n",
        "test_loader = torch.utils.data.DataLoader(mnist_test, batch_size=batch_size, shuffle=False)"
      ],
      "execution_count": 5,
      "outputs": [
        {
          "output_type": "stream",
          "text": [
            "Downloading http://yann.lecun.com/exdb/mnist/train-images-idx3-ubyte.gz to /tmp/mnist/MNIST/raw/train-images-idx3-ubyte.gz\n"
          ],
          "name": "stdout"
        },
        {
          "output_type": "display_data",
          "data": {
            "application/vnd.jupyter.widget-view+json": {
              "model_id": "a8c35c6c6aa24f16b20d7d73d2d5d1dd",
              "version_minor": 0,
              "version_major": 2
            },
            "text/plain": [
              "HBox(children=(IntProgress(value=1, bar_style='info', max=1), HTML(value='')))"
            ]
          },
          "metadata": {
            "tags": []
          }
        },
        {
          "output_type": "stream",
          "text": [
            "Extracting /tmp/mnist/MNIST/raw/train-images-idx3-ubyte.gz to /tmp/mnist/MNIST/raw\n",
            "Downloading http://yann.lecun.com/exdb/mnist/train-labels-idx1-ubyte.gz to /tmp/mnist/MNIST/raw/train-labels-idx1-ubyte.gz\n"
          ],
          "name": "stdout"
        },
        {
          "output_type": "display_data",
          "data": {
            "application/vnd.jupyter.widget-view+json": {
              "model_id": "ede32ab8e6f94edb8cb37341c28ec7ec",
              "version_minor": 0,
              "version_major": 2
            },
            "text/plain": [
              "HBox(children=(IntProgress(value=1, bar_style='info', max=1), HTML(value='')))"
            ]
          },
          "metadata": {
            "tags": []
          }
        },
        {
          "output_type": "stream",
          "text": [
            "Extracting /tmp/mnist/MNIST/raw/train-labels-idx1-ubyte.gz to /tmp/mnist/MNIST/raw\n",
            "Downloading http://yann.lecun.com/exdb/mnist/t10k-images-idx3-ubyte.gz to /tmp/mnist/MNIST/raw/t10k-images-idx3-ubyte.gz\n",
            "\n"
          ],
          "name": "stdout"
        },
        {
          "output_type": "display_data",
          "data": {
            "application/vnd.jupyter.widget-view+json": {
              "model_id": "135767d2187b47a0a63728f333e20689",
              "version_minor": 0,
              "version_major": 2
            },
            "text/plain": [
              "HBox(children=(IntProgress(value=1, bar_style='info', max=1), HTML(value='')))"
            ]
          },
          "metadata": {
            "tags": []
          }
        },
        {
          "output_type": "stream",
          "text": [
            "Extracting /tmp/mnist/MNIST/raw/t10k-images-idx3-ubyte.gz to /tmp/mnist/MNIST/raw\n",
            "Downloading http://yann.lecun.com/exdb/mnist/t10k-labels-idx1-ubyte.gz to /tmp/mnist/MNIST/raw/t10k-labels-idx1-ubyte.gz\n"
          ],
          "name": "stdout"
        },
        {
          "output_type": "display_data",
          "data": {
            "application/vnd.jupyter.widget-view+json": {
              "model_id": "1dc5a628878c42a7b1626efc70d70383",
              "version_minor": 0,
              "version_major": 2
            },
            "text/plain": [
              "HBox(children=(IntProgress(value=1, bar_style='info', max=1), HTML(value='')))"
            ]
          },
          "metadata": {
            "tags": []
          }
        },
        {
          "output_type": "stream",
          "text": [
            "Extracting /tmp/mnist/MNIST/raw/t10k-labels-idx1-ubyte.gz to /tmp/mnist/MNIST/raw\n",
            "Processing...\n",
            "Done!\n"
          ],
          "name": "stdout"
        }
      ]
    },
    {
      "cell_type": "code",
      "metadata": {
        "colab_type": "code",
        "id": "TgAJ94UgK1VU",
        "outputId": "99b1988e-2f62-42fc-928c-4b26d2fef418",
        "colab": {
          "base_uri": "https://localhost:8080/",
          "height": 34
        }
      },
      "source": [
        "def train(model, criterion, data_loader, optimizer, num_epochs):\n",
        "    \"\"\"Simple training loop for a PyTorch model.\"\"\" \n",
        "    \n",
        "    # Make sure model is in training mode.\n",
        "    model.train()\n",
        "    \n",
        "    # Move model to the device (CPU or GPU).\n",
        "    model.to(device)\n",
        "    \n",
        "    # Exponential moving average of the loss.\n",
        "    ema_loss = None\n",
        "    \n",
        "    # Loop over epochs.\n",
        "    for epoch in range(num_epochs):\n",
        "        \n",
        "      # Loop over data.\n",
        "      for batch_idx, (data, target) in enumerate(data_loader):\n",
        "            \n",
        "          # Forward pass.\n",
        "          output = model(data.to(device))\n",
        "          loss = criterion(output.to(device), target.to(device))\n",
        "          \n",
        "          # Backward pass.\n",
        "          optimizer.zero_grad()\n",
        "          loss.backward()\n",
        "          optimizer.step()\n",
        "          \n",
        "          # NOTE: It is important to call .item() on the loss before summing.\n",
        "          if ema_loss is None:\n",
        "            ema_loss = loss.item()\n",
        "          else:\n",
        "            ema_loss += (loss.item() - ema_loss) * 0.01 \n",
        "          \n",
        "      # Print out progress the end of epoch.\n",
        "      print('Train Epoch: {} \\tLoss: {:.6f}'.format(\n",
        "            epoch, ema_loss),\n",
        "      )\n",
        "              \n",
        "              \n",
        "def test(model, data_loader):\n",
        "    \"\"\"Measures the accuracy of a model on a data set.\"\"\" \n",
        "    # Make sure the model is in evaluation mode.\n",
        "    model.eval()\n",
        "    correct = 0\n",
        "\n",
        "    # We do not need to maintain intermediate activations while testing.\n",
        "    with torch.no_grad():\n",
        "        \n",
        "        # Loop over test data.\n",
        "        for data, target in data_loader:\n",
        "          \n",
        "            # Forward pass.\n",
        "            output = model(data.to(device))\n",
        "            \n",
        "            # Get the label corresponding to the highest predicted probability.\n",
        "            pred = output.argmax(dim=1, keepdim=True)\n",
        "            \n",
        "            # Count number of correct predictions.\n",
        "            correct += pred.cpu().eq(target.view_as(pred)).sum().item()\n",
        "\n",
        "    # Print test accuracy.\n",
        "    percent = 100. * correct / len(data_loader.dataset)\n",
        "    print(f'Accuracy: {correct} / {len(data_loader.dataset)} ({percent:.0f}%)')\n",
        "    return percent\n",
        "   "
      ],
      "execution_count": 6,
      "outputs": [
        {
          "output_type": "stream",
          "text": [
            "\n"
          ],
          "name": "stdout"
        }
      ]
    },
    {
      "cell_type": "markdown",
      "metadata": {
        "id": "UF_lSQ5lz_ms",
        "colab_type": "text"
      },
      "source": [
        "In the last tutorial, you implemented a naive convolution. In this section you will implement your own version of forward pass of nn.Conv2d without using any of PyTorch's (or numpy's) pre-defined convolutional functions."
      ]
    },
    {
      "cell_type": "code",
      "metadata": {
        "id": "Np-9LFRz6Cyo",
        "colab_type": "code",
        "colab": {}
      },
      "source": [
        "def get_output_size(in_size, kernel_size, stride=1, padding=0):\n",
        "    return int((in_size - kernel_size + 2 * padding) / stride) + 1"
      ],
      "execution_count": 0,
      "outputs": []
    },
    {
      "cell_type": "code",
      "metadata": {
        "id": "YNb4RD8liiUh",
        "colab_type": "code",
        "colab": {
          "base_uri": "https://localhost:8080/",
          "height": 34
        },
        "outputId": "761d8c38-cfed-40de-aa54-b0ebeb3b34f2"
      },
      "source": [
        "get_output_size(256, 3, 2, 1)"
      ],
      "execution_count": 8,
      "outputs": [
        {
          "output_type": "execute_result",
          "data": {
            "text/plain": [
              "128"
            ]
          },
          "metadata": {
            "tags": []
          },
          "execution_count": 8
        }
      ]
    },
    {
      "cell_type": "code",
      "metadata": {
        "id": "nM4ICmwUz_mt",
        "colab_type": "code",
        "colab": {}
      },
      "source": [
        "def conv_forward_naive(x, w, b, conv_param):\n",
        "    \"\"\"\n",
        "    A naive Python implementation of a convolutional layer.\n",
        "    The input consists of N data points, each with C channels, height H and\n",
        "    width W. We convolve each input with F different filters, where each filter\n",
        "    spans all C channels and has height HH and width WW.\n",
        "    Input:\n",
        "    - x: Input data of shape (N, C, H, W)\n",
        "    - w: Filter weights of shape (F, C, HH, WW)\n",
        "    - b: Biases, of shape (F,)\n",
        "    - conv_param: A dictionary with the following keys:\n",
        "      - 'stride': The number of pixels between adjacent receptive fields in the\n",
        "        horizontal and vertical directions.\n",
        "      - 'pad': The number of pixels that will be used to zero-pad the input. \n",
        "        \n",
        "    During padding, 'pad' zeros should be placed symmetrically (i.e., equally on both sides)\n",
        "    along the height and width axes of the input. Be careful not to modfiy the original\n",
        "    input x directly.\n",
        "    Returns an array.\n",
        "    - out: Output data, of shape (N, F, H', W') where H' and W' are given by\n",
        "      H' = 1 + (H + 2 * pad - HH) / stride\n",
        "      W' = 1 + (W + 2 * pad - WW) / stride\n",
        "    \"\"\"\n",
        "    out = None\n",
        "\n",
        "    N, C, H, W = x.shape\n",
        "    num_filters, _, filter_height, filter_width = w.shape\n",
        "    stride, pad = conv_param['stride'], conv_param['pad']\n",
        "\n",
        "    H_OUT = get_output_size(H, filter_height, stride, pad)\n",
        "    W_OUT = get_output_size(W, filter_height, stride, pad)\n",
        "    \n",
        "    out = torch.zeros(N, num_filters, H_OUT, W_OUT)\n",
        "\n",
        "    # Check dimensions.\n",
        "    assert (W + 2 * pad - filter_width) % stride == 0, 'width does not work'\n",
        "    assert (H + 2 * pad - filter_height) % stride == 0, 'height does not work'\n",
        "\n",
        "    ###########################################################################\n",
        "    # TODO: Implement the forward pass of a convolutional layer without using #\n",
        "    #       nn.Conv2D or other implementations of convolutions. Instead, use  #\n",
        "    #       standard for- and while-loops to iterate over the tensors.        #\n",
        "    #                                                                         #\n",
        "    # Hint: you can use the function torch.nn.functional.pad for padding.     #\n",
        "    ###########################################################################\n",
        "\n",
        "    x_padded = nn.functional.pad(x, (pad, pad, pad, pad))\n",
        "    # for n in range(N):\n",
        "    #   for kernel in range(num_filters):\n",
        "    #     for row in range(H_OUT):\n",
        "    #       cur_row = row * stride\n",
        "    #       for col in range(W_OUT):\n",
        "    #         cur_col = col * stride \n",
        "    #         out[n, kernel, row, col] = torch.sum(x_padded[n, :, cur_row:filter_height+cur_row , cur_col:filter_width + cur_col] * w[kernel, :, :, :]) + b[kernel]\n",
        "\n",
        "    for kernel in range(num_filters):\n",
        "      for row in range(H_OUT):\n",
        "        for col in range(W_OUT):\n",
        "          xw = x_padded[:, :, row * stride:filter_height+row * stride , col * stride :filter_width + col * stride ] * w[kernel, :, :, :]\n",
        "          out[:, kernel, row, col] = torch.sum(xw, (3, 2, 1)) + b[kernel]\n",
        "    return out\n",
        "    "
      ],
      "execution_count": 0,
      "outputs": []
    },
    {
      "cell_type": "markdown",
      "metadata": {
        "id": "XMVmL_NGz_mz",
        "colab_type": "text"
      },
      "source": [
        "You can test your implementation by running the following testing code:"
      ]
    },
    {
      "cell_type": "code",
      "metadata": {
        "id": "TGkRfEJ_z_m0",
        "colab_type": "code",
        "colab": {
          "base_uri": "https://localhost:8080/",
          "height": 68
        },
        "outputId": "40b473b3-0432-425e-dd7e-cab9c3834493"
      },
      "source": [
        "# Make convolution module.\n",
        "w_shape = (3, 3, 4, 4)\n",
        "w = torch.linspace(-0.2, 0.3, steps=torch.prod(torch.tensor(w_shape))).reshape(w_shape)\n",
        "b = torch.linspace(-0.1, 0.2, steps=3)\n",
        "\n",
        "# Compute output of module and compare against reference values.\n",
        "x_shape = (2, 3, 4, 4)\n",
        "x = torch.linspace(-0.1, 0.5, steps=torch.prod(torch.tensor(x_shape))).reshape(x_shape)\n",
        "out = conv_forward_naive(x, w, b, {'stride': 2, 'pad': 1})\n",
        "\n",
        "correct_out = torch.tensor([[[[-0.08759809, -0.10987781],\n",
        "                              [-0.18387192, -0.2109216 ]],\n",
        "                             [[ 0.21027089,  0.21661097],\n",
        "                              [ 0.22847626,  0.23004637]],\n",
        "                             [[ 0.50813986,  0.54309974],\n",
        "                              [ 0.64082444,  0.67101435]]],\n",
        "                            [[[-0.98053589, -1.03143541],\n",
        "                              [-1.19128892, -1.24695841]],\n",
        "                             [[ 0.69108355,  0.66880383],\n",
        "                              [ 0.59480972,  0.56776003]],\n",
        "                             [[ 2.36270298,  2.36904306],\n",
        "                              [ 2.38090835,  2.38247847]]]])\n",
        "\n",
        "# Compare your output to ours; difference should be around e-8\n",
        "print('Testing conv_forward_naive')\n",
        "rel_error = ((out - correct_out) / (out + correct_out + 1e-6)).mean()\n",
        "print('difference: ', rel_error)\n",
        "if abs(rel_error) < 1e-6:\n",
        "    print('Nice work! Your implementation of a convolution layer works correctly.')\n",
        "else:\n",
        "    print('Something is wrong. The output was expected to be {} but it was {}'.format(correct_out, out))"
      ],
      "execution_count": 10,
      "outputs": [
        {
          "output_type": "stream",
          "text": [
            "Testing conv_forward_naive\n",
            "difference:  tensor(1.9275e-08)\n",
            "Nice work! Your implementation of a convolution layer works correctly.\n"
          ],
          "name": "stdout"
        }
      ]
    },
    {
      "cell_type": "markdown",
      "metadata": {
        "colab_type": "text",
        "id": "GjTq5-k_q8s_"
      },
      "source": [
        "\n",
        "We will now replace the logistic regressor from the last tutorial by a small convolutional network with two convolutional layers and a linear layer, and ReLU activations in between the layers. Implement the model and use the same functions as before to train and test the convolutional network."
      ]
    },
    {
      "cell_type": "code",
      "metadata": {
        "colab_type": "code",
        "id": "5t4hWoUYpp05",
        "outputId": "b4fd050c-5b8b-40b9-88f2-7c15dff8f858",
        "colab": {
          "base_uri": "https://localhost:8080/",
          "height": 136
        }
      },
      "source": [
        "class ConvolutionalNetwork(nn.Module):\n",
        "  \"\"\"Simple convolutional network.\"\"\"\n",
        "  \n",
        "  def __init__(self, image_side_size, num_classes, in_channels=1):\n",
        "      super(ConvolutionalNetwork, self).__init__()\n",
        "        \n",
        "      # Fill these in:\n",
        "      ##########################################################################\n",
        "      # TODO: Implement a convulutional and a linear part.                     #\n",
        "      # Hint: see forward() to understand how they should work together.       #\n",
        "      ########################################################################## \n",
        "      conv1_out = get_output_size(image_side_size, 3, 1, 1)\n",
        "      conv2_out = get_output_size(conv1_out, 3, 1, 1)    \n",
        "      self.conv_network =  nn.Sequential(\n",
        "            nn.Conv2d(in_channels, 6, kernel_size=3, stride=1, padding=1),\n",
        "            nn.ReLU(),\n",
        "            nn.Conv2d(6, 6, kernel_size=3, stride=1, padding=1),\n",
        "            nn.ReLU())\n",
        "      self.linear = nn.Linear(6 * conv2_out * conv2_out, num_classes)\n",
        "      \n",
        "      \n",
        "  def forward(self, x):\n",
        "      x = self.conv_network(x)\n",
        "      x = self.linear(x.view(x.size(0), -1))\n",
        "      return x\n",
        "\n",
        "    \n",
        "# Create and train convolutional network.\n",
        "# The accuracy should be around 98%.\n",
        "conv_model = ConvolutionalNetwork(28, 10)\n",
        "###########################################################################\n",
        "# TODO: Create criterion and optimize here.                               #\n",
        "###########################################################################\n",
        "criterion = nn.CrossEntropyLoss()\n",
        "optimizer = torch.optim.Adam(conv_model.parameters(), lr=0.001)\n",
        "\n",
        "train(conv_model, criterion, train_loader, optimizer, num_epochs=5)\n",
        "test(conv_model, test_loader)"
      ],
      "execution_count": 19,
      "outputs": [
        {
          "output_type": "stream",
          "text": [
            "Train Epoch: 0 \tLoss: 0.143109\n",
            "Train Epoch: 1 \tLoss: 0.083721\n",
            "Train Epoch: 2 \tLoss: 0.078989\n",
            "Train Epoch: 3 \tLoss: 0.058435\n",
            "Train Epoch: 4 \tLoss: 0.045968\n",
            "Accuracy: 9846 / 10000 (98%)\n"
          ],
          "name": "stdout"
        },
        {
          "output_type": "execute_result",
          "data": {
            "text/plain": [
              "98.46"
            ]
          },
          "metadata": {
            "tags": []
          },
          "execution_count": 19
        }
      ]
    },
    {
      "cell_type": "markdown",
      "metadata": {
        "id": "vfCP8SU_z_m8",
        "colab_type": "text"
      },
      "source": [
        "Inspect the filters in the first layer of the trained convolutional network. What do they look like? Why?"
      ]
    },
    {
      "cell_type": "code",
      "metadata": {
        "colab_type": "code",
        "id": "LuSuQHT6bNdU",
        "outputId": "478f6616-a1fa-46a7-bb73-5fc0caec8060",
        "colab": {
          "base_uri": "https://localhost:8080/",
          "height": 104
        }
      },
      "source": [
        "first_conv = list(conv_model.conv_network.children())[0]\n",
        "show(torchvision.utils.make_grid(\n",
        "    first_conv.weight,\n",
        "    normalize=True,\n",
        "    nrow=8,\n",
        "))"
      ],
      "execution_count": 12,
      "outputs": [
        {
          "output_type": "display_data",
          "data": {
            "image/png": "[encoded data removed]",
            "text/plain": [
              "<Figure size 432x288 with 1 Axes>"
            ]
          },
          "metadata": {
            "tags": [],
            "needs_background": "light"
          }
        }
      ]
    },
    {
      "cell_type": "markdown",
      "metadata": {
        "colab_type": "text",
        "id": "71LRkRxndajG"
      },
      "source": [
        "## Batch Normalization\n"
      ]
    },
    {
      "cell_type": "markdown",
      "metadata": {
        "colab_type": "text",
        "id": "oN8qTuGkZ-3X"
      },
      "source": [
        "Batch normalization is tenchique that allows to make training more stable fast [1].\n",
        "\n",
        "Below we define a convolutional network with 3 layers. Before each ReLU layer we insert a BatchNorm2d layer if `use_batch_norm` is `True`. This improves the convergence as guarantees as values have the same variance asn zero-means. As a result on average exactly half of the values will be nulled by ReLU.\n",
        "\n",
        "[1] Ioffe, Sergey, and Christian Szegedy. \"Batch normalization: Accelerating deep network training by reducing internal covariate shift.\" arXiv preprint arXiv:1502.03167 (2015).\n",
        "\n",
        "**Task**. Go ahead and add batch normalization layer."
      ]
    },
    {
      "cell_type": "code",
      "metadata": {
        "colab_type": "code",
        "id": "vg4CO_WDeLqh",
        "colab": {}
      },
      "source": [
        "class ConvolutionalNetworkWithBN(nn.Module):\n",
        "  \"\"\"Convolutional network uses batch normalization when `use_batch_norm` is `True`.\"\"\"\n",
        "  \n",
        "  def __init__(self, use_batch_norm=False):\n",
        "      super().__init__()\n",
        "      num_channels = 8\n",
        "      self.use_batch_norm = use_batch_norm\n",
        "        \n",
        "      # We define all our layers in a single Sequential. If use_batch_norm is \n",
        "      # True, we'd like maybe_batch_norm_layer to produce a batchnorm layer.\n",
        "      self.conv = nn.Sequential(\n",
        "          # 1x28x28 -> 8x24x24.\n",
        "          nn.Conv2d(1, num_channels, kernel_size=5),\n",
        "          # 8x24x24 -> 8x12x12.\n",
        "          nn.MaxPool2d(2),\n",
        "          self.maybe_batch_norm_layer(num_channels),\n",
        "          nn.ReLU(inplace=True),\n",
        "          nn.Conv2d(num_channels, num_channels, kernel_size=3, padding=1),          \n",
        "          self.maybe_batch_norm_layer(num_channels),            \n",
        "          nn.ReLU(inplace=True),\n",
        "          # 8x12x12 -> 8x8x8.\n",
        "          nn.Conv2d(num_channels, num_channels, kernel_size=5),\n",
        "          # 8x8x8 -> 8x4x4.\n",
        "          nn.MaxPool2d(2),\n",
        "          self.maybe_batch_norm_layer(num_channels),\n",
        "          nn.ReLU(inplace=True),\n",
        "      )\n",
        "      self.linear = nn.Linear(num_channels * 4 ** 2, 10)  \n",
        "      \n",
        "  def maybe_batch_norm_layer(self, num_channels):\n",
        "      if self.use_batch_norm:\n",
        "          ###########################################################################\n",
        "          # TODO: Add batch norm layer                                              #\n",
        "          # Put your code between START_GRADING and END_GRADING.                    #\n",
        "          ###########################################################################\n",
        "          return nn.BatchNorm2d(num_channels)\n",
        "          \n",
        "      else:\n",
        "          # This layer will copy its input to the output.\n",
        "          return nn.Identity()\n",
        "      \n",
        "  def forward(self, x):\n",
        "      x = self.conv(x)  \n",
        "      x = self.linear(x.view(x.size(0), -1))\n",
        "      return x"
      ],
      "execution_count": 0,
      "outputs": []
    },
    {
      "cell_type": "markdown",
      "metadata": {
        "colab_type": "text",
        "id": "qbtzzBhiJ4PW"
      },
      "source": [
        "To see how batch normalization improves stability, let's try to train the neural network with different learning rates and check the accuracies."
      ]
    },
    {
      "cell_type": "code",
      "metadata": {
        "colab_type": "code",
        "id": "YXuSliJF3r7u",
        "outputId": "b7f10845-b87f-4fe1-f74a-404a1b1e25ff",
        "colab": {
          "base_uri": "https://localhost:8080/",
          "height": 272
        }
      },
      "source": [
        "for lr in 0.3, 0.1, 0.03, 0.01, 0.003:\n",
        "  conv_model = ConvolutionalNetworkWithBN()\n",
        "  optimizer = torch.optim.SGD(conv_model.parameters(), lr=lr)\n",
        "  train(conv_model, nn.CrossEntropyLoss(), train_loader, optimizer, num_epochs=1)\n",
        "  accuracy = test(conv_model, test_loader)\n",
        "  if accuracy > 96:\n",
        "    print(f'##### lr={lr} leads to GOOD accuracy (no batch normalization)')\n",
        "  elif accuracy > 90:\n",
        "    print(f'##### lr={lr} leads to DECENT accuracy (no batch normalization)')\n",
        "  else:\n",
        "    print(f'##### lr={lr} leads to BAD accuracy (no batch normalization)')   "
      ],
      "execution_count": 14,
      "outputs": [
        {
          "output_type": "stream",
          "text": [
            "Train Epoch: 0 \tLoss: 0.146298\n",
            "Accuracy: 9711 / 10000 (97%)\n",
            "##### lr=0.3 leads to GOOD accuracy (no batch normalization)\n",
            "Train Epoch: 0 \tLoss: 0.118529\n",
            "Accuracy: 9693 / 10000 (97%)\n",
            "##### lr=0.1 leads to GOOD accuracy (no batch normalization)\n",
            "Train Epoch: 0 \tLoss: 0.178753\n",
            "Accuracy: 9393 / 10000 (94%)\n",
            "##### lr=0.03 leads to DECENT accuracy (no batch normalization)\n",
            "Train Epoch: 0 \tLoss: 0.369844\n",
            "Accuracy: 8832 / 10000 (88%)\n",
            "##### lr=0.01 leads to BAD accuracy (no batch normalization)\n",
            "Train Epoch: 0 \tLoss: 2.217088\n",
            "Accuracy: 4425 / 10000 (44%)\n",
            "##### lr=0.003 leads to BAD accuracy (no batch normalization)\n"
          ],
          "name": "stdout"
        }
      ]
    },
    {
      "cell_type": "markdown",
      "metadata": {
        "colab_type": "text",
        "id": "WrJBxM03KOZ-"
      },
      "source": [
        "As you can see learning rate should be in a narrow region to get GOOD result.\n",
        "\n",
        "Now let's try to run the same batch normalization. Before running the code you should finish TODO in ConvolutionalNetworkWithBN code. If your code is correct, then accuracies will improve."
      ]
    },
    {
      "cell_type": "code",
      "metadata": {
        "colab_type": "code",
        "id": "6u2JJdnX5VKF",
        "outputId": "c8d89db3-0a9e-4e13-b08a-7fce012b89de",
        "colab": {
          "base_uri": "https://localhost:8080/",
          "height": 272
        }
      },
      "source": [
        "for lr in 0.3, 0.1, 0.03, 0.01, 0.003:\n",
        "  conv_model = ConvolutionalNetworkWithBN(use_batch_norm=True)\n",
        "  optimizer = torch.optim.SGD(conv_model.parameters(), lr=lr)\n",
        "  train(conv_model, nn.CrossEntropyLoss(), train_loader, optimizer, num_epochs=1)\n",
        "  accuracy = test(conv_model, test_loader)\n",
        "  if accuracy > 96:\n",
        "    print(f'##### lr={lr} leads to GOOD accuracy (with batch normalization)')\n",
        "  elif accuracy > 90:\n",
        "    print(f'##### lr={lr} leads to DECENT accuracy (with batch normalization)')\n",
        "  else:\n",
        "    print(f'##### lr={lr} leads to BAD accuracy (with batch normalization)')   \n",
        "  if lr >= 0.01:\n",
        "    assert accuracy > 90, 'Accuracy is too low. Check that your BatchNorm implementation is correct!'"
      ],
      "execution_count": 15,
      "outputs": [
        {
          "output_type": "stream",
          "text": [
            "Train Epoch: 0 \tLoss: 0.064230\n",
            "Accuracy: 9811 / 10000 (98%)\n",
            "##### lr=0.3 leads to GOOD accuracy (with batch normalization)\n",
            "Train Epoch: 0 \tLoss: 0.075116\n",
            "Accuracy: 9821 / 10000 (98%)\n",
            "##### lr=0.1 leads to GOOD accuracy (with batch normalization)\n",
            "Train Epoch: 0 \tLoss: 0.092050\n",
            "Accuracy: 9749 / 10000 (97%)\n",
            "##### lr=0.03 leads to GOOD accuracy (with batch normalization)\n",
            "Train Epoch: 0 \tLoss: 0.186259\n",
            "Accuracy: 9628 / 10000 (96%)\n",
            "##### lr=0.01 leads to GOOD accuracy (with batch normalization)\n",
            "Train Epoch: 0 \tLoss: 0.490011\n",
            "Accuracy: 9365 / 10000 (94%)\n",
            "##### lr=0.003 leads to DECENT accuracy (with batch normalization)\n"
          ],
          "name": "stdout"
        }
      ]
    },
    {
      "cell_type": "markdown",
      "metadata": {
        "colab_type": "text",
        "id": "gdgr7eNFTTAn"
      },
      "source": [
        "**Question [optional]:** Replace the batch normalization layer in your network by your own implementation. Confirm your batch-normalization implementation is correct."
      ]
    },
    {
      "cell_type": "code",
      "metadata": {
        "colab_type": "code",
        "id": "MAuhUMtjTj3f",
        "outputId": "59f1e89b-94fb-4571-d5ec-b0c21a26aa97",
        "colab": {
          "base_uri": "https://localhost:8080/",
          "height": 334
        }
      },
      "source": [
        "class MyBatchNorm2d(nn.Module):\n",
        "    \"\"\"Simple implementation of batch normalization.\"\"\"\n",
        "\n",
        "    def __init__(self, num_channels, momentum=0.1, epsilon=1e-5):\n",
        "        super(MyBatchNorm2d, self).__init__()\n",
        "\n",
        "        # Initialize bias and gain parameters.\n",
        "        self.gamma = nn.Parameter(torch.ones(1, num_channels, 1, 1))\n",
        "        self.beta = nn.Parameter(torch.zeros(1, num_channels, 1, 1))\n",
        "\n",
        "        # Initialize moving averages.\n",
        "        self.epsilon = epsilon\n",
        "        self.momentum = momentum\n",
        "        self.register_buffer('running_mean', torch.zeros((1, num_channels, 1, 1)))\n",
        "        self.register_buffer('running_var', torch.ones((1, num_channels, 1, 1)))\n",
        "\n",
        "    def forward(self, x):\n",
        "        # Check that input is of correct size.\n",
        "        assert x.dim() == 4, 'input should be NCHW'\n",
        "        assert x.size(1) == self.gamma.numel()\n",
        "        \n",
        "        ########################################################################\n",
        "        # TODO: Add batch norm layer implementation.                           #\n",
        "        # You code should:                                                     #\n",
        "        #   * Compute mean and var.                                            #\n",
        "        #   * Update running_mean and running_var.                             #\n",
        "        #   * Apply mean - variance normalization to x.                        #\n",
        "        # Put your code between START_GRADING and END_GRADING.                 #\n",
        "        ########################################################################\n",
        "\n",
        "        mean = x.mean(axis=(0, 2, 3), keepdim=True)\n",
        "        variance = x.var(axis=(0, 2, 3), keepdim=True)\n",
        "\n",
        "        self.running_mean = ((1 - self.momentum) * self.running_mean) + (self.momentum * mean)\n",
        "        self.running_var = ((1 - self.momentum) * self.running_var)  + (self.momentum * variance)\n",
        "        out = (x - mean) / torch.sqrt(variance + self.epsilon)\n",
        "        out = (self.gamma * out) + self.beta\n",
        "        return out\n",
        "        \n",
        "\n",
        "\n",
        "# Use this code to test if your implementation is correct.\n",
        "batch_size, num_channels, im_size = 32, 8, 6\n",
        "batchnorm1 = nn.BatchNorm2d(num_channels)\n",
        "batchnorm2 = MyBatchNorm2d(num_channels)\n",
        "for key, param in batchnorm1.named_parameters():\n",
        "    if key == 'weight':\n",
        "        param.data.fill_(1.0)  # undo random initialization in nn.BatchNorm2d\n",
        "for mode in [True, False]:     # test in training and evaluation mode\n",
        "    batchnorm1.train(mode=mode)\n",
        "    batchnorm2.train(mode=mode)\n",
        "    for count in range(5):\n",
        "        x = torch.randn(batch_size, num_channels, im_size, im_size) + 10.0\n",
        "        out1 = batchnorm1(x)\n",
        "        out2 = batchnorm2(x)\n",
        "        print('counting ', count)\n",
        "        assert (batchnorm1.running_mean - batchnorm2.running_mean.squeeze()).abs().max() < 1e-5, \\\n",
        "            'running mean is incorrect (%s mode)' % ('train' if mode else 'eval')\n",
        "        assert (batchnorm1.running_var - batchnorm2.running_var.squeeze()).abs().max() < 1e-5, \\\n",
        "            'running variance is incorrect (%s mode)' % ('train' if mode else 'eval')\n",
        "        assert (out1 - out2).abs().max() < 5e-3, \\\n",
        "            'normalized output is incorrect (%s mode)' % ('train' if mode else 'eval')\n",
        "print('All OK!')\n",
        "        "
      ],
      "execution_count": 16,
      "outputs": [
        {
          "output_type": "stream",
          "text": [
            "counting  0\n",
            "counting  1\n",
            "counting  2\n",
            "counting  3\n",
            "counting  4\n",
            "counting  0\n"
          ],
          "name": "stdout"
        },
        {
          "output_type": "error",
          "ename": "AssertionError",
          "evalue": "ignored",
          "traceback": [
            "\u001b[0;31m---------------------------------------------------------------------------\u001b[0m",
            "\u001b[0;31mAssertionError\u001b[0m                            Traceback (most recent call last)",
            "\u001b[0;32m<ipython-input-16-d5de37f003be>\u001b[0m in \u001b[0;36m<module>\u001b[0;34m()\u001b[0m\n\u001b[1;32m     55\u001b[0m         \u001b[0mout2\u001b[0m \u001b[0;34m=\u001b[0m \u001b[0mbatchnorm2\u001b[0m\u001b[0;34m(\u001b[0m\u001b[0mx\u001b[0m\u001b[0;34m)\u001b[0m\u001b[0;34m\u001b[0m\u001b[0;34m\u001b[0m\u001b[0m\n\u001b[1;32m     56\u001b[0m         \u001b[0mprint\u001b[0m\u001b[0;34m(\u001b[0m\u001b[0;34m'counting '\u001b[0m\u001b[0;34m,\u001b[0m \u001b[0mcount\u001b[0m\u001b[0;34m)\u001b[0m\u001b[0;34m\u001b[0m\u001b[0;34m\u001b[0m\u001b[0m\n\u001b[0;32m---> 57\u001b[0;31m         \u001b[0;32massert\u001b[0m \u001b[0;34m(\u001b[0m\u001b[0mbatchnorm1\u001b[0m\u001b[0;34m.\u001b[0m\u001b[0mrunning_mean\u001b[0m \u001b[0;34m-\u001b[0m \u001b[0mbatchnorm2\u001b[0m\u001b[0;34m.\u001b[0m\u001b[0mrunning_mean\u001b[0m\u001b[0;34m.\u001b[0m\u001b[0msqueeze\u001b[0m\u001b[0;34m(\u001b[0m\u001b[0;34m)\u001b[0m\u001b[0;34m)\u001b[0m\u001b[0;34m.\u001b[0m\u001b[0mabs\u001b[0m\u001b[0;34m(\u001b[0m\u001b[0;34m)\u001b[0m\u001b[0;34m.\u001b[0m\u001b[0mmax\u001b[0m\u001b[0;34m(\u001b[0m\u001b[0;34m)\u001b[0m \u001b[0;34m<\u001b[0m \u001b[0;36m1e-5\u001b[0m\u001b[0;34m,\u001b[0m             \u001b[0;34m'running mean is incorrect (%s mode)'\u001b[0m \u001b[0;34m%\u001b[0m \u001b[0;34m(\u001b[0m\u001b[0;34m'train'\u001b[0m \u001b[0;32mif\u001b[0m \u001b[0mmode\u001b[0m \u001b[0;32melse\u001b[0m \u001b[0;34m'eval'\u001b[0m\u001b[0;34m)\u001b[0m\u001b[0;34m\u001b[0m\u001b[0;34m\u001b[0m\u001b[0m\n\u001b[0m\u001b[1;32m     58\u001b[0m         \u001b[0;32massert\u001b[0m \u001b[0;34m(\u001b[0m\u001b[0mbatchnorm1\u001b[0m\u001b[0;34m.\u001b[0m\u001b[0mrunning_var\u001b[0m \u001b[0;34m-\u001b[0m \u001b[0mbatchnorm2\u001b[0m\u001b[0;34m.\u001b[0m\u001b[0mrunning_var\u001b[0m\u001b[0;34m.\u001b[0m\u001b[0msqueeze\u001b[0m\u001b[0;34m(\u001b[0m\u001b[0;34m)\u001b[0m\u001b[0;34m)\u001b[0m\u001b[0;34m.\u001b[0m\u001b[0mabs\u001b[0m\u001b[0;34m(\u001b[0m\u001b[0;34m)\u001b[0m\u001b[0;34m.\u001b[0m\u001b[0mmax\u001b[0m\u001b[0;34m(\u001b[0m\u001b[0;34m)\u001b[0m \u001b[0;34m<\u001b[0m \u001b[0;36m1e-5\u001b[0m\u001b[0;34m,\u001b[0m             \u001b[0;34m'running variance is incorrect (%s mode)'\u001b[0m \u001b[0;34m%\u001b[0m \u001b[0;34m(\u001b[0m\u001b[0;34m'train'\u001b[0m \u001b[0;32mif\u001b[0m \u001b[0mmode\u001b[0m \u001b[0;32melse\u001b[0m \u001b[0;34m'eval'\u001b[0m\u001b[0;34m)\u001b[0m\u001b[0;34m\u001b[0m\u001b[0;34m\u001b[0m\u001b[0m\n\u001b[1;32m     59\u001b[0m         \u001b[0;32massert\u001b[0m \u001b[0;34m(\u001b[0m\u001b[0mout1\u001b[0m \u001b[0;34m-\u001b[0m \u001b[0mout2\u001b[0m\u001b[0;34m)\u001b[0m\u001b[0;34m.\u001b[0m\u001b[0mabs\u001b[0m\u001b[0;34m(\u001b[0m\u001b[0;34m)\u001b[0m\u001b[0;34m.\u001b[0m\u001b[0mmax\u001b[0m\u001b[0;34m(\u001b[0m\u001b[0;34m)\u001b[0m \u001b[0;34m<\u001b[0m \u001b[0;36m5e-3\u001b[0m\u001b[0;34m,\u001b[0m             \u001b[0;34m'normalized output is incorrect (%s mode)'\u001b[0m \u001b[0;34m%\u001b[0m \u001b[0;34m(\u001b[0m\u001b[0;34m'train'\u001b[0m \u001b[0;32mif\u001b[0m \u001b[0mmode\u001b[0m \u001b[0;32melse\u001b[0m \u001b[0;34m'eval'\u001b[0m\u001b[0;34m)\u001b[0m\u001b[0;34m\u001b[0m\u001b[0;34m\u001b[0m\u001b[0m\n",
            "\u001b[0;31mAssertionError\u001b[0m: running mean is incorrect (eval mode)"
          ]
        }
      ]
    },
    {
      "cell_type": "code",
      "metadata": {
        "colab_type": "code",
        "id": "K_mlTK4LMlse",
        "colab": {}
      },
      "source": [
        ""
      ],
      "execution_count": 0,
      "outputs": []
    }
  ]
}